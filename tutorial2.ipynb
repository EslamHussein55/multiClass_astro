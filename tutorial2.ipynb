{
 "cells": [
  {
   "cell_type": "markdown",
   "id": "729488d0-9885-48af-ab4e-62bfc749b466",
   "metadata": {},
   "source": [
    "# Tutorial 2: Feature enginnering and selection\n",
    " "
   ]
  },
  {
   "cell_type": "markdown",
   "id": "7fa48d8c-ee2d-4249-9460-618f5b9b4a39",
   "metadata": {},
   "source": [
    "---"
   ]
  },
  {
   "cell_type": "markdown",
   "id": "eb6dd21f-feaa-4957-a3cc-2b5d542c273a",
   "metadata": {},
   "source": [
    "## Introduction\n",
    "\n",
    "In this tutorial you will learn how to do the following:\n",
    "-  Create/enginner features\n",
    "-  Select features relative to thier importance\n",
    "#### Let's get started!"
   ]
  },
  {
   "cell_type": "markdown",
   "id": "69575bb7-940b-4941-b302-5aaa84897143",
   "metadata": {},
   "source": [
    "---"
   ]
  },
  {
   "cell_type": "markdown",
   "id": "a3f3088f-3388-457c-b662-32466ec3838d",
   "metadata": {},
   "source": [
    "let us retrieve the data from the previous tutorial"
   ]
  },
  {
   "cell_type": "code",
   "execution_count": 1,
   "id": "8c7564db-d86e-42b0-badf-244d68b18b71",
   "metadata": {},
   "outputs": [],
   "source": [
    "%store -r data_ModelM"
   ]
  },
  {
   "cell_type": "code",
   "execution_count": 2,
   "id": "d91c5d5f-cf74-4855-853f-b6f55593e879",
   "metadata": {},
   "outputs": [
    {
     "data": {
      "text/html": [
       "<div>\n",
       "<style scoped>\n",
       "    .dataframe tbody tr th:only-of-type {\n",
       "        vertical-align: middle;\n",
       "    }\n",
       "\n",
       "    .dataframe tbody tr th {\n",
       "        vertical-align: top;\n",
       "    }\n",
       "\n",
       "    .dataframe thead th {\n",
       "        text-align: right;\n",
       "    }\n",
       "</style>\n",
       "<table border=\"1\" class=\"dataframe\">\n",
       "  <thead>\n",
       "    <tr style=\"text-align: right;\">\n",
       "      <th></th>\n",
       "      <th>Mu</th>\n",
       "      <th>Mg</th>\n",
       "      <th>Mr</th>\n",
       "      <th>Mi</th>\n",
       "      <th>Mz</th>\n",
       "      <th>W1</th>\n",
       "      <th>W2</th>\n",
       "      <th>class</th>\n",
       "    </tr>\n",
       "  </thead>\n",
       "  <tbody>\n",
       "    <tr>\n",
       "      <th>0</th>\n",
       "      <td>20.391554</td>\n",
       "      <td>20.329977</td>\n",
       "      <td>20.306154</td>\n",
       "      <td>20.072433</td>\n",
       "      <td>19.909691</td>\n",
       "      <td>19.481</td>\n",
       "      <td>19.015</td>\n",
       "      <td>QSO</td>\n",
       "    </tr>\n",
       "    <tr>\n",
       "      <th>1</th>\n",
       "      <td>22.861437</td>\n",
       "      <td>21.111048</td>\n",
       "      <td>20.074354</td>\n",
       "      <td>19.361259</td>\n",
       "      <td>19.039858</td>\n",
       "      <td>18.680</td>\n",
       "      <td>19.090</td>\n",
       "      <td>GALAXY</td>\n",
       "    </tr>\n",
       "    <tr>\n",
       "      <th>2</th>\n",
       "      <td>22.322790</td>\n",
       "      <td>22.327713</td>\n",
       "      <td>20.546944</td>\n",
       "      <td>19.670311</td>\n",
       "      <td>19.139175</td>\n",
       "      <td>18.357</td>\n",
       "      <td>19.007</td>\n",
       "      <td>GALAXY</td>\n",
       "    </tr>\n",
       "  </tbody>\n",
       "</table>\n",
       "</div>"
      ],
      "text/plain": [
       "          Mu         Mg         Mr         Mi         Mz      W1      W2  \\\n",
       "0  20.391554  20.329977  20.306154  20.072433  19.909691  19.481  19.015   \n",
       "1  22.861437  21.111048  20.074354  19.361259  19.039858  18.680  19.090   \n",
       "2  22.322790  22.327713  20.546944  19.670311  19.139175  18.357  19.007   \n",
       "\n",
       "    class  \n",
       "0     QSO  \n",
       "1  GALAXY  \n",
       "2  GALAXY  "
      ]
     },
     "execution_count": 2,
     "metadata": {},
     "output_type": "execute_result"
    }
   ],
   "source": [
    "data_ModelM.head(3)"
   ]
  },
  {
   "cell_type": "markdown",
   "id": "c3fce8ee-bde7-4976-b3df-5f438f24b9b6",
   "metadata": {},
   "source": [
    "Importing some libraries:"
   ]
  },
  {
   "cell_type": "code",
   "execution_count": 3,
   "id": "0c3ecd7b-45f9-43c1-b0c0-c330e3bac375",
   "metadata": {},
   "outputs": [],
   "source": [
    "import pandas as pd # for importing data into data frame format\n",
    "import seaborn as sns # For drawing useful graphs, such as bar graphs\n",
    "import matplotlib.pyplot as plt\n",
    "import numpy as np"
   ]
  },
  {
   "cell_type": "markdown",
   "id": "00e92c8f-a0c4-4d09-966a-a52c89109dcc",
   "metadata": {},
   "source": [
    "---"
   ]
  },
  {
   "cell_type": "markdown",
   "id": "b295fe62-539d-4d73-a86b-70d887be63b5",
   "metadata": {},
   "source": [
    "some explentaion here why are we creating all of those features"
   ]
  },
  {
   "cell_type": "markdown",
   "id": "d6223f67-b832-411e-8630-cb42b9042071",
   "metadata": {},
   "source": [
    "<b><i> Creating color features </i></b> \n"
   ]
  },
  {
   "cell_type": "code",
   "execution_count": 5,
   "id": "34ac9dcf-5433-4da1-b8a0-f3f4a63e0d6d",
   "metadata": {},
   "outputs": [],
   "source": [
    "data_ModelM['Mu-g'] = data_ModelM['Mu']- data_ModelM['Mg']\n",
    "data_ModelM['Mu-r'] = data_ModelM['Mu']- data_ModelM['Mr']\n",
    "data_ModelM['Mu-i'] = data_ModelM['Mu']- data_ModelM['Mi']\n",
    "data_ModelM['Mu-z'] = data_ModelM['Mu']- data_ModelM['Mz']\n",
    "\n",
    "data_ModelM['Mg-r'] = data_ModelM['Mg']- data_ModelM['Mr']\n",
    "data_ModelM['Mg-i'] = data_ModelM['Mg']- data_ModelM['Mi']\n",
    "data_ModelM['Mg-z'] = data_ModelM['Mg']- data_ModelM['Mz']\n",
    "\n",
    "data_ModelM['Mr-i'] = data_ModelM['Mr']- data_ModelM['Mi']\n",
    "data_ModelM['Mr-z'] = data_ModelM['Mr']- data_ModelM['Mz']\n",
    "\n",
    "data_ModelM['Mi-z'] = data_ModelM['Mi']-data_ModelM['Mz']"
   ]
  },
  {
   "cell_type": "code",
   "execution_count": 6,
   "id": "754b3b1e-0d91-4113-8e9b-a72845618d7c",
   "metadata": {},
   "outputs": [
    {
     "name": "stdout",
     "output_type": "stream",
     "text": [
      "(3500958, 18)\n"
     ]
    }
   ],
   "source": [
    "print(data_ModelM.shape) # so we added exactly 10 more features/colors"
   ]
  },
  {
   "cell_type": "markdown",
   "id": "b2306333-14bf-45d0-b639-79d93f8f90d6",
   "metadata": {},
   "source": [
    "<b><i> Adding WISE colors </i></b> "
   ]
  },
  {
   "cell_type": "code",
   "execution_count": 8,
   "id": "771007ff-2aac-4a00-90a3-b43f74bf9915",
   "metadata": {},
   "outputs": [],
   "source": [
    "data_ModelM['Mu-w1'] = data_ModelM['Mu']- data_ModelM['W1']\n",
    "data_ModelM['Mu-w2'] = data_ModelM['Mu']- data_ModelM['W2']\n",
    "\n",
    "data_ModelM['Mg-w1'] = data_ModelM['Mg']- data_ModelM['W1']\n",
    "data_ModelM['Mg-w2'] = data_ModelM['Mg']- data_ModelM['W2']\n",
    "\n",
    "data_ModelM['Mr-w1'] = data_ModelM['Mr']- data_ModelM['W1']\n",
    "data_ModelM['Mr-w2'] = data_ModelM['Mr']- data_ModelM['W2']\n",
    "\n",
    "data_ModelM['Mi-w1'] = data_ModelM['Mi']- data_ModelM['W1']\n",
    "data_ModelM['Mi-w2'] = data_ModelM['Mi']- data_ModelM['W2']\n",
    "\n",
    "\n",
    "data_ModelM['Mz-w1'] = data_ModelM['Mz']- data_ModelM['W1']\n",
    "data_ModelM['Mz-w2'] = data_ModelM['Mz']- data_ModelM['W2']\n",
    "\n",
    "data_ModelM['w1-w2'] = data_ModelM['W1']- data_ModelM['W2']\n"
   ]
  },
  {
   "cell_type": "code",
   "execution_count": 9,
   "id": "ec41e22a-4631-48f5-987a-adbcc5d2f293",
   "metadata": {},
   "outputs": [
    {
     "name": "stdout",
     "output_type": "stream",
     "text": [
      "(3500958, 29)\n",
      "Rows: 3500958\n",
      "Col: 29\n"
     ]
    }
   ],
   "source": [
    "print(data_ModelM.shape)\n",
    "print( \"Rows: \"+ str(data_ModelM.shape[0]) )\n",
    "print( \"Col: \"+ str(data_ModelM.shape[1]) ) # where there are about 28 features, and the extra is for the output \"specclass\""
   ]
  },
  {
   "cell_type": "markdown",
   "id": "8c7143d3-35d1-470d-a87e-25eb968222d0",
   "metadata": {},
   "source": [
    "---"
   ]
  },
  {
   "cell_type": "markdown",
   "id": "71b4459a-46d0-4307-9701-50735b4741e2",
   "metadata": {},
   "source": [
    "Now dealing with this amount of features is a difficult task, however there lots of tools that can be used to reduce the features:\n",
    "\n",
    "**Manual** feature reduction: where a user can manually select the most relevant features\n",
    "-  Feature importance: where we can manually selec the most N importnat features (where n is the number of features)\n",
    "-  Feature correlation: where we can manually remove haighly correlated features\n",
    "**Automatic** feature reduction: where features are reduced automatically:\n",
    "- principal component analysis\n",
    "- CNNs (deep learning)"
   ]
  },
  {
   "cell_type": "markdown",
   "id": "1e9dac8f-a32c-4830-aec9-29e33c2bfcdb",
   "metadata": {},
   "source": [
    "---"
   ]
  },
  {
   "cell_type": "markdown",
   "id": "3e1e0894-2f2b-4369-8d75-bdd1fa7707b5",
   "metadata": {},
   "source": [
    "<b><i> Feature reduction </i></b> "
   ]
  },
  {
   "cell_type": "markdown",
   "id": "6cb70067-7717-4672-8a00-ce28df950789",
   "metadata": {},
   "source": [
    "In this section, we will show how we reduce the features using *[Permutation Importance](https://www.kaggle.com/code/dansbecker/permutation-importance/tutorial)*."
   ]
  },
  {
   "cell_type": "markdown",
   "id": "d8a069ad-b3ca-4b60-a8de-d976f9cec521",
   "metadata": {},
   "source": [
    "first, let us split the data into inputs (X) and output (y) "
   ]
  },
  {
   "cell_type": "code",
   "execution_count": 14,
   "id": "55e78289-dd39-42e1-963c-8955be603f77",
   "metadata": {},
   "outputs": [
    {
     "name": "stdout",
     "output_type": "stream",
     "text": [
      "(3500958, 28)\n",
      "(3500958,)\n"
     ]
    }
   ],
   "source": [
    "X = data_ModelM.drop(['class'], axis = 1)\n",
    "y = data_ModelM['class']\n",
    "print(X.shape) # our input\n",
    "print(y.shape) # our input"
   ]
  },
  {
   "cell_type": "markdown",
   "id": "62fa7af7-4b39-4647-be29-109ccc6507e6",
   "metadata": {},
   "source": [
    "To avoid data leakage, we need to perform feature permutation only on the training set, therefore we need to split the data into training and testing"
   ]
  },
  {
   "cell_type": "code",
   "execution_count": 15,
   "id": "382f491c-5690-4eba-82c1-6e661b614224",
   "metadata": {},
   "outputs": [],
   "source": [
    "from sklearn.model_selection import train_test_split\n",
    "\n",
    "Xtrain, Xtest, Ytrain, Ytest = train_test_split( X, y, test_size = 0.4, random_state=3, stratify=y) # train and valid sets\n"
   ]
  },
  {
   "cell_type": "code",
   "execution_count": 16,
   "id": "8751dd69-04b7-40ce-ac02-ea7881bcf93c",
   "metadata": {},
   "outputs": [
    {
     "name": "stdout",
     "output_type": "stream",
     "text": [
      "(2100574, 28)\n",
      "(1400384, 28)\n"
     ]
    }
   ],
   "source": [
    "print(Xtrain.shape)\n",
    "print(Xtest.shape)"
   ]
  },
  {
   "cell_type": "markdown",
   "id": "1b562041-3594-4916-9278-4bb9eb2aac33",
   "metadata": {},
   "source": [
    "permutation methods requires that we use a ML tool to evalute the importance of the features, we will be useing random forest (RF) for this task."
   ]
  },
  {
   "cell_type": "code",
   "execution_count": 18,
   "id": "1c7a59bd-b4ff-4ebb-982f-09a73b34fa81",
   "metadata": {},
   "outputs": [],
   "source": [
    "from sklearn.ensemble import RandomForestClassifier\n",
    "from sklearn.inspection import permutation_importance"
   ]
  },
  {
   "cell_type": "markdown",
   "id": "1defd585-f4f4-4377-930c-5040c07243e0",
   "metadata": {},
   "source": [
    "*train the model*"
   ]
  },
  {
   "cell_type": "code",
   "execution_count": 22,
   "id": "1523978e-d2a4-473e-981a-38a6d7547909",
   "metadata": {},
   "outputs": [
    {
     "data": {
      "text/plain": [
       "RandomForestClassifier(n_jobs=32, random_state=0)"
      ]
     },
     "execution_count": 22,
     "metadata": {},
     "output_type": "execute_result"
    }
   ],
   "source": [
    "model = RandomForestClassifier(n_estimators=100, random_state=0, n_jobs = 32) # define the machine learning model\n",
    "model.fit(Xtrain, Ytrain)"
   ]
  },
  {
   "cell_type": "markdown",
   "id": "97b9b387-eaa9-4079-afa1-40a63765abf8",
   "metadata": {},
   "source": [
    "*permutation*"
   ]
  },
  {
   "cell_type": "code",
   "execution_count": null,
   "id": "5bedfffd-0ada-46c0-937a-7bdccb9dd78b",
   "metadata": {},
   "outputs": [],
   "source": [
    "results = permutation_importance(model, Xtrain, Ytrain, scoring='f1_micro', n_repeats = 10, n_jobs = -1) # uses almost 40 gigabytes\n",
    "importance = results.importances_mean"
   ]
  },
  {
   "cell_type": "markdown",
   "id": "aaa7c156-a846-4bec-b315-2c8383798ce7",
   "metadata": {},
   "source": [
    "now let us visualise the feature importance"
   ]
  },
  {
   "cell_type": "code",
   "execution_count": null,
   "id": "57540290-0980-40c7-b83a-2ab191232488",
   "metadata": {},
   "outputs": [],
   "source": [
    "plt.rcParams[\"figure.figsize\"] = (15,10) # 'xtick.labelsize', 'ytick.labelsize'\n",
    "plt.rcParams['ytick.labelsize'] = 15     # 'xtick.labelsize', 'ytick.labelsize'\n",
    "plt.rcParams['xtick.labelsize'] = 15     # 'xtick.labelsize', 'ytick.labelsize'\n",
    "plt.rcParams['axes.labelsize'] = 15\n",
    "plt.rcParams['axes.titlesize'] = 15\n",
    "sorted_idx = importance.argsort()\n",
    "\n",
    "plt.barh(attrNames[sorted_idx], importance[sorted_idx])\n",
    "plt.show()"
   ]
  },
  {
   "cell_type": "code",
   "execution_count": null,
   "id": "b2165ab1-0bf6-4dc9-a667-abb55a08d9bb",
   "metadata": {},
   "outputs": [],
   "source": []
  },
  {
   "cell_type": "code",
   "execution_count": null,
   "id": "7c7cccb9-5ca7-48af-802a-27976d8e8f9a",
   "metadata": {},
   "outputs": [],
   "source": []
  },
  {
   "cell_type": "code",
   "execution_count": 41,
   "id": "523ac390-3691-4cbf-ab32-90a0370c50f1",
   "metadata": {},
   "outputs": [
    {
     "name": "stdout",
     "output_type": "stream",
     "text": [
      "['Mg-r' 'Mg-i' 'Mz-w1' 'Mi-w2' 'Mr-i' 'Mr-z' 'Mw1-w2']\n"
     ]
    }
   ],
   "source": [
    "print(attrNames[sorted_idx][-7:])"
   ]
  },
  {
   "cell_type": "markdown",
   "id": "8eef1629-0c44-423c-9735-2512b348fd74",
   "metadata": {},
   "source": [
    "for some reason, I decided to take only the first 7 features, which I will focus on the analysis and the classification task. you can try 8 if you want"
   ]
  },
  {
   "cell_type": "code",
   "execution_count": 42,
   "id": "4eb4a623-0dd5-4097-b994-eca3ba6ea779",
   "metadata": {},
   "outputs": [],
   "source": [
    "X_imp = X[attrNames[sorted_idx][-7:]]\n",
    "data_imp = cleanedData_Model [attrNames[sorted_idx][-7:]]\n",
    "data_imp = data_imp.join(cleanedData_Model [['specclass']])"
   ]
  },
  {
   "cell_type": "code",
   "execution_count": 43,
   "id": "5fa4d979-360c-4128-81be-58c1ce5628be",
   "metadata": {},
   "outputs": [
    {
     "name": "stdout",
     "output_type": "stream",
     "text": [
      "       Mg-r      Mg-i     Mz-w1     Mi-w2      Mr-i      Mr-z  Mw1-w2\n",
      "0  0.023823  0.257544  0.428691  1.057434  0.233721  0.396463   0.466\n",
      "1  1.036694  1.749788  0.359858  0.271259  0.713095  1.034496  -0.410\n",
      "2  1.780769  2.657402  0.782175  0.663311  0.876633  1.407768  -0.650\n",
      "(3500958, 7)\n"
     ]
    }
   ],
   "source": [
    "print(X_imp.head(3))\n",
    "print(X_imp.shape)"
   ]
  },
  {
   "cell_type": "markdown",
   "id": "13c6e2b5-f938-4439-ae1f-6bb0abc5c512",
   "metadata": {},
   "source": [
    "The above is my final data set :D, now I need to save them to work with them in the next tutorial (notebook)"
   ]
  },
  {
   "cell_type": "code",
   "execution_count": 44,
   "id": "bb599d8d-760a-4311-a46b-a23e01410eae",
   "metadata": {},
   "outputs": [
    {
     "name": "stdout",
     "output_type": "stream",
     "text": [
      "Stored 'X_imp' (DataFrame)\n",
      "Stored 'y' (ndarray)\n",
      "Stored 'data_imp' (DataFrame)\n"
     ]
    }
   ],
   "source": [
    "%store X_imp\n",
    "%store y\n",
    "%store data_imp"
   ]
  },
  {
   "cell_type": "code",
   "execution_count": null,
   "id": "5cb122cb-ed38-4c29-ae11-b3e6eca476d6",
   "metadata": {},
   "outputs": [],
   "source": []
  },
  {
   "cell_type": "code",
   "execution_count": null,
   "id": "57a3a13e-0b92-4329-a4fb-d8af00c5e96e",
   "metadata": {},
   "outputs": [],
   "source": []
  }
 ],
 "metadata": {
  "kernelspec": {
   "display_name": "ASTRO-PY3",
   "language": "python",
   "name": "astro-py3"
  },
  "language_info": {
   "codemirror_mode": {
    "name": "ipython",
    "version": 3
   },
   "file_extension": ".py",
   "mimetype": "text/x-python",
   "name": "python",
   "nbconvert_exporter": "python",
   "pygments_lexer": "ipython3",
   "version": "3.6.8"
  }
 },
 "nbformat": 4,
 "nbformat_minor": 5
}
