{
 "cells": [
  {
   "cell_type": "markdown",
   "id": "729488d0-9885-48af-ab4e-62bfc749b466",
   "metadata": {},
   "source": [
    "# Tutorial 1: Clean and create astronomy data\n",
    " "
   ]
  },
  {
   "cell_type": "markdown",
   "id": "eb6dd21f-feaa-4957-a3cc-2b5d542c273a",
   "metadata": {},
   "source": [
    "## Introduction\n",
    "\n",
    "In this tutorial you will:\n",
    "-  Data Visualization \n",
    "-  Clean the data\n",
    "-  Extract astronomy features and create others that might be of some importance\n",
    "## Let's get started!"
   ]
  },
  {
   "cell_type": "code",
   "execution_count": 1,
   "id": "b2c26923-7b76-48ec-ac52-c13d1477c47f",
   "metadata": {},
   "outputs": [
    {
     "name": "stdout",
     "output_type": "stream",
     "text": [
      "4\n"
     ]
    }
   ],
   "source": [
    "print(4)"
   ]
  },
  {
   "cell_type": "markdown",
   "id": "e7154cb5-4eb6-450f-b31d-8e35e39bad1e",
   "metadata": {},
   "source": [
    "#### Reading a fit format data "
   ]
  },
  {
   "cell_type": "code",
   "execution_count": 1,
   "id": "f0bdab19-870a-4fc3-8e79-e6cee2d0d07d",
   "metadata": {},
   "outputs": [],
   "source": [
    "# ___Cell no. 1___\n",
    "\n",
    "import astropy.io.fits as fits  #package provides access to FITS file format\n",
    "\n",
    "filename = '/idia/projects/hippo/astroml/data/sdss_all_large_dr16_red_catwise.fits.gz'\n",
    "fitsFile = fits.open(filename, memmap=True)\n",
    "\n",
    "# Patince it does take some time"
   ]
  },
  {
   "cell_type": "markdown",
   "id": "e0576f03-1b69-41f8-b5d0-123adfe4560a",
   "metadata": {},
   "source": [
    "#### Convert the fits file into a dataframe"
   ]
  },
  {
   "cell_type": "code",
   "execution_count": 3,
   "id": "7192a5e5-fee7-45c8-a576-dface035ae6e",
   "metadata": {},
   "outputs": [],
   "source": [
    "# ___Cell no. 2___\n",
    "\n",
    "from astropy.table import Table\n",
    "# is there is a way to make those lines to run faster ? ?  ? ? ? ?\n",
    "table_data = Table(fitsFile[1].data) \n",
    "df = table_data.to_pandas()\n",
    "\n",
    "# Patience it does take some time"
   ]
  },
  {
   "cell_type": "markdown",
   "id": "846e31b1-4256-4880-9042-6deca2af9f3d",
   "metadata": {},
   "source": [
    "#### Now to take a look at the data"
   ]
  },
  {
   "cell_type": "code",
   "execution_count": 4,
   "id": "ed06df9b-7953-44bd-a4b8-ff3bec4ccce2",
   "metadata": {},
   "outputs": [
    {
     "name": "stdout",
     "output_type": "stream",
     "text": [
      "                 objID          ra        dec     raErr    decErr  type  \\\n",
      "0  1237679479084155171    8.104365  23.669649  0.021190  0.021140     6   \n",
      "1  1237678617411322668  345.189621   1.194889  0.037775  0.037008     3   \n",
      "2  1237678617411322688  345.202994   1.163524  0.035891  0.042338     3   \n",
      "3  1237678617411387839  345.225493   1.184593  0.017604  0.015682     6   \n",
      "4  1237679434519347440    1.967231  -2.747982  0.015730  0.014864     6   \n",
      "\n",
      "   skyVersion   run  rerun  camcol  ...  k2  km   plx1  e_plx1   plx2  e_plx2  \\\n",
      "0           2  7917    301       6  ...   3   3  0.191   0.109  0.180   0.109   \n",
      "1           2  7717    301       1  ...   3   3 -0.057   0.077 -0.038   0.076   \n",
      "2           2  7717    301       1  ...   3   3 -0.052   0.067 -0.056   0.068   \n",
      "3           2  7717    301       1  ...   3   3  1.723   0.412  1.680   0.413   \n",
      "4           2  7907    301       3  ...   3   3  0.202   0.164  0.200   0.159   \n",
      "\n",
      "     Sep   ccf  abfl   angDist  \n",
      "0  0.555  0000    00  0.138507  \n",
      "1  0.161  0000    00  0.539022  \n",
      "2  0.433  0000    00  0.951173  \n",
      "3    NaN          00  1.012156  \n",
      "4  0.488  0000    00  0.501981  \n",
      "\n",
      "[5 rows x 277 columns]\n"
     ]
    }
   ],
   "source": [
    "print(df.head(5)) # shows the first 5 elements in the dataframe."
   ]
  },
  {
   "cell_type": "markdown",
   "id": "1779ca45-452f-42cf-bfb0-d4b679069464",
   "metadata": {},
   "source": [
    "#### Data summary"
   ]
  },
  {
   "cell_type": "markdown",
   "id": "14ddbfea-77b1-4fc7-bc31-141c15bfdcdd",
   "metadata": {},
   "source": [
    "The data contains the following\n",
    "- Wise features\n",
    "- ModelMag features\n",
    "- CModelMag features\n",
    "- PSFMag features\n",
    "- the class of the space object\n",
    "- and many more, but the above is what we are interested in.\n"
   ]
  },
  {
   "cell_type": "markdown",
   "id": "e26393a1-5bdf-431b-a5b7-d40d54b8e050",
   "metadata": {},
   "source": [
    "### Clean the data"
   ]
  },
  {
   "cell_type": "markdown",
   "id": "1f605903-9914-4c21-ac7e-ad81f047167a",
   "metadata": {},
   "source": [
    "#### Currently we are only Interested in the Model_Mag+Wise features & the class if the object"
   ]
  },
  {
   "cell_type": "code",
   "execution_count": 5,
   "id": "e0fbc413-d7fa-47ba-8a69-a0460e6c7591",
   "metadata": {},
   "outputs": [],
   "source": [
    "data_Model = df[['modelMag_u','modelMag_g','modelMag_r','modelMag_i','modelMag_z', 'W1mproPM', 'W2mproPM', 'specclass']]"
   ]
  },
  {
   "cell_type": "markdown",
   "id": "cd44f8cd-adb4-44cb-86de-cdca8c61fb54",
   "metadata": {},
   "source": [
    "#### the variabls names above are very long, let us make it shorter"
   ]
  },
  {
   "cell_type": "code",
   "execution_count": 6,
   "id": "32234dc2-2acf-40c3-8f99-6cc3ddaa4505",
   "metadata": {},
   "outputs": [],
   "source": [
    "data_Model = data_Model.rename({'modelMag_u':'Mu', 'modelMag_g':'Mg', 'modelMag_r':'Mr',\n",
    "                      'modelMag_i':'Mi', 'modelMag_z':'Mz', 'W1mproPM':'W1', 'W2mproPM':'W2'}, axis='columns')"
   ]
  },
  {
   "cell_type": "code",
   "execution_count": 7,
   "id": "163ecd82-6a4c-43d3-a307-5eb72f91d8c1",
   "metadata": {},
   "outputs": [
    {
     "name": "stdout",
     "output_type": "stream",
     "text": [
      "Index(['Mu', 'Mg', 'Mr', 'Mi', 'Mz', 'W1', 'W2', 'specclass'], dtype='object')\n"
     ]
    }
   ],
   "source": [
    "print(data_Model.columns)"
   ]
  },
  {
   "cell_type": "markdown",
   "id": "4ce3ec97-c0ec-4c32-a18f-201da94bbcbd",
   "metadata": {},
   "source": [
    "#### remove NAN values if it exists"
   ]
  },
  {
   "cell_type": "code",
   "execution_count": 8,
   "id": "e8359f29-c97c-4073-9588-91fe8d95a868",
   "metadata": {},
   "outputs": [],
   "source": [
    "cleanedData_Model = data_Model.dropna()"
   ]
  },
  {
   "cell_type": "code",
   "execution_count": 9,
   "id": "1c0983cc-c16f-4000-b8e9-a85ba1821a89",
   "metadata": {},
   "outputs": [
    {
     "name": "stdout",
     "output_type": "stream",
     "text": [
      "          Mu         Mg         Mr         Mi         Mz         W1  \\\n",
      "0  20.391554  20.329977  20.306154  20.072433  19.909691  19.481000   \n",
      "1  22.861437  21.111048  20.074354  19.361259  19.039858  18.680000   \n",
      "2  22.322790  22.327713  20.546944  19.670311  19.139175  18.357000   \n",
      "3  21.926924  21.073366  20.722250  20.736134  20.519217  20.429000   \n",
      "4  21.875925  20.828112  20.517542  20.628027  20.329777  19.741999   \n",
      "\n",
      "          W2                         specclass  \n",
      "0  19.015000  QSO                               \n",
      "1  19.090000  GALAXY                            \n",
      "2  19.007000  GALAXY                            \n",
      "3  20.520999  QSO                               \n",
      "4  19.622001  QSO                               \n",
      "\n",
      "Dataframe dimension: (3500958, 8)\n"
     ]
    }
   ],
   "source": [
    "print(cleanedData_Model.head(5))\n",
    "print() # creats a line\n",
    "print(\"Dataframe dimension: \"+ str(cleanedData_Model.shape) ) # shape funtion needs to be converted to str (string) type for it to work "
   ]
  },
  {
   "cell_type": "markdown",
   "id": "81be1753-c727-4113-a85b-438632a1a433",
   "metadata": {},
   "source": [
    "#### there is a problem with spaces in the specclass, let us fix it (not an ideal way of doing it)"
   ]
  },
  {
   "cell_type": "code",
   "execution_count": 10,
   "id": "beaf5a27-3b84-4fac-8392-703a6ec60de7",
   "metadata": {},
   "outputs": [],
   "source": [
    "cleanedData_Model['specclass'] = cleanedData_Model['specclass'].str.strip()\n"
   ]
  },
  {
   "cell_type": "code",
   "execution_count": 11,
   "id": "3a5a22fd-95c7-4f5c-8f52-3008215a76b7",
   "metadata": {},
   "outputs": [
    {
     "name": "stdout",
     "output_type": "stream",
     "text": [
      "          Mu         Mg         Mr         Mi         Mz         W1  \\\n",
      "0  20.391554  20.329977  20.306154  20.072433  19.909691  19.481000   \n",
      "1  22.861437  21.111048  20.074354  19.361259  19.039858  18.680000   \n",
      "2  22.322790  22.327713  20.546944  19.670311  19.139175  18.357000   \n",
      "3  21.926924  21.073366  20.722250  20.736134  20.519217  20.429000   \n",
      "4  21.875925  20.828112  20.517542  20.628027  20.329777  19.741999   \n",
      "\n",
      "          W2 specclass  \n",
      "0  19.015000       QSO  \n",
      "1  19.090000    GALAXY  \n",
      "2  19.007000    GALAXY  \n",
      "3  20.520999       QSO  \n",
      "4  19.622001       QSO  \n",
      "\n",
      "Dataframe dimension: (3500958, 8)\n"
     ]
    }
   ],
   "source": [
    "print(cleanedData_Model.head(5))\n",
    "print() # creats an empty line\n",
    "print(\"Dataframe dimension: \"+ str(cleanedData_Model.shape) ) # shape funtion needs to be converted to str (string) type for it to work "
   ]
  },
  {
   "cell_type": "markdown",
   "id": "2f5fae13-c271-412d-a76e-9b60217466fb",
   "metadata": {},
   "source": [
    "#### Now let us look at the classes that the data has."
   ]
  },
  {
   "cell_type": "code",
   "execution_count": 14,
   "id": "7063f985-7a02-4b8a-ad47-c6d896c6c224",
   "metadata": {},
   "outputs": [],
   "source": [
    "import numpy as np\n",
    "\n",
    "classes = cleanedData_Model['specclass']\n",
    "classnames, labels = np.unique(np.array(classes), return_inverse=True)\n",
    "\n"
   ]
  },
  {
   "cell_type": "code",
   "execution_count": 15,
   "id": "bd01d758-cd61-4a29-a451-95a6e455b0c9",
   "metadata": {},
   "outputs": [
    {
     "name": "stdout",
     "output_type": "stream",
     "text": [
      "GALAXY, 0\n",
      "QSO, 1\n",
      "STAR, 2\n"
     ]
    }
   ],
   "source": [
    "for i,j in zip(classnames, np.unique(labels)):\n",
    "    print(str(np.char.rstrip(i)) + \", \"+str(j)) # rstrip delets white spaces on the right of a word"
   ]
  },
  {
   "cell_type": "code",
   "execution_count": 16,
   "id": "036a89c3-9068-40a3-a0af-5e89829b7667",
   "metadata": {},
   "outputs": [
    {
     "data": {
      "image/png": "[encoded data removed]",
      "text/plain": [
       "<Figure size 432x288 with 1 Axes>"
      ]
     },
     "metadata": {
      "needs_background": "light"
     },
     "output_type": "display_data"
    }
   ],
   "source": [
    "import seaborn as sns\n",
    "\n",
    "ax = sns.countplot(x=\"specclass\",data=cleanedData_Model)\n"
   ]
  },
  {
   "cell_type": "markdown",
   "id": "3fd9eb39-b605-4143-b714-ce6e17b54863",
   "metadata": {},
   "source": [
    "there is a serious class imbalance that is shown in the above figure"
   ]
  },
  {
   "cell_type": "code",
   "execution_count": 17,
   "id": "02d2f59f-59a8-4cc4-b289-19bd380fb6a4",
   "metadata": {},
   "outputs": [
    {
     "name": "stdout",
     "output_type": "stream",
     "text": [
      "the freq in numbers:\n",
      "\n",
      "Galaxies: 2145521\n",
      "QSOs: 689934\n",
      "Stars: 665503\n"
     ]
    }
   ],
   "source": [
    "print(\"the freq in numbers:\\n\") # '\\n' creates a new line\n",
    "\n",
    "print( \"Galaxies: \" + str(len(np.where(labels == 0)[0]) )) # Galaxy\n",
    "print( \"QSOs: \" + str(len(np.where(labels == 1)[0]) )) # QSO\n",
    "print(  \"Stars: \" + str(len(np.where(labels == 2)[0]) )) # Star"
   ]
  },
  {
   "cell_type": "markdown",
   "id": "7b4e8b74-ada8-49de-bfa8-401a2c9bdfac",
   "metadata": {},
   "source": [
    "#### Now to visualise the features "
   ]
  },
  {
   "cell_type": "code",
   "execution_count": 18,
   "id": "9ff5e880-1e29-407e-96a5-f6b57165d0fb",
   "metadata": {
    "tags": []
   },
   "outputs": [
    {
     "data": {
      "image/png": "[encoded data removed]",
      "text/plain": [
       "<Figure size 432x288 with 1 Axes>"
      ]
     },
     "metadata": {
      "needs_background": "light"
     },
     "output_type": "display_data"
    },
    {
     "data": {
      "image/png": "[encoded data removed]",
      "text/plain": [
       "<Figure size 432x288 with 1 Axes>"
      ]
     },
     "metadata": {
      "needs_background": "light"
     },
     "output_type": "display_data"
    },
    {
     "data": {
      "image/png": "[encoded data removed]",
      "text/plain": [
       "<Figure size 432x288 with 1 Axes>"
      ]
     },
     "metadata": {
      "needs_background": "light"
     },
     "output_type": "display_data"
    },
    {
     "data": {
      "image/png": "[encoded data removed]",
      "text/plain": [
       "<Figure size 432x288 with 1 Axes>"
      ]
     },
     "metadata": {
      "needs_background": "light"
     },
     "output_type": "display_data"
    },
    {
     "data": {
      "image/png": "[encoded data removed]",
      "text/plain": [
       "<Figure size 432x288 with 1 Axes>"
      ]
     },
     "metadata": {
      "needs_background": "light"
     },
     "output_type": "display_data"
    },
    {
     "data": {
      "image/png": "[encoded data removed]",
      "text/plain": [
       "<Figure size 432x288 with 1 Axes>"
      ]
     },
     "metadata": {
      "needs_background": "light"
     },
     "output_type": "display_data"
    },
    {
     "data": {
      "image/png": "[encoded data removed]",
      "text/plain": [
       "<Figure size 432x288 with 1 Axes>"
      ]
     },
     "metadata": {
      "needs_background": "light"
     },
     "output_type": "display_data"
    }
   ],
   "source": [
    "import matplotlib.pyplot as plt\n",
    "\n",
    "arr = ['Mu', 'Mg', 'Mr', 'Mi', 'Mz', 'W1', 'W2']\n",
    "for feat in arr:\n",
    "    sns.histplot(data=cleanedData_Model, x=feat, hue=\"specclass\")\n",
    "    plt.show()"
   ]
  },
  {
   "cell_type": "markdown",
   "id": "d6223f67-b832-411e-8630-cb42b9042071",
   "metadata": {},
   "source": [
    "#### creating color features"
   ]
  },
  {
   "cell_type": "code",
   "execution_count": 19,
   "id": "34ac9dcf-5433-4da1-b8a0-f3f4a63e0d6d",
   "metadata": {},
   "outputs": [],
   "source": [
    "cleanedData_Model['Mu-g'] = cleanedData_Model['Mu']- cleanedData_Model['Mg']\n",
    "cleanedData_Model['Mu-r'] = cleanedData_Model['Mu']- cleanedData_Model['Mr']\n",
    "cleanedData_Model['Mu-i'] = cleanedData_Model['Mu']- cleanedData_Model['Mi']\n",
    "cleanedData_Model['Mu-z'] = cleanedData_Model['Mu']- cleanedData_Model['Mz']\n",
    "\n",
    "cleanedData_Model['Mg-r'] = cleanedData_Model['Mg']- cleanedData_Model['Mr']\n",
    "cleanedData_Model['Mg-i'] = cleanedData_Model['Mg']- cleanedData_Model['Mi']\n",
    "cleanedData_Model['Mg-z'] = cleanedData_Model['Mg']- cleanedData_Model['Mz']\n",
    "\n",
    "cleanedData_Model['Mr-i'] = cleanedData_Model['Mr']- cleanedData_Model['Mi']\n",
    "cleanedData_Model['Mr-z'] = cleanedData_Model['Mr']- cleanedData_Model['Mz']\n",
    "\n",
    "cleanedData_Model['Mi-z'] = cleanedData_Model['Mi']-cleanedData_Model['Mz']"
   ]
  },
  {
   "cell_type": "code",
   "execution_count": 20,
   "id": "754b3b1e-0d91-4113-8e9b-a72845618d7c",
   "metadata": {},
   "outputs": [
    {
     "name": "stdout",
     "output_type": "stream",
     "text": [
      "(3500958, 18)\n"
     ]
    }
   ],
   "source": [
    "print(cleanedData_Model.shape) # so we added exactly 10 features/colors"
   ]
  },
  {
   "cell_type": "markdown",
   "id": "b2306333-14bf-45d0-b639-79d93f8f90d6",
   "metadata": {},
   "source": [
    "#### adding WISE colors"
   ]
  },
  {
   "cell_type": "code",
   "execution_count": 21,
   "id": "771007ff-2aac-4a00-90a3-b43f74bf9915",
   "metadata": {},
   "outputs": [],
   "source": [
    "cleanedData_Model['Mu-w1'] = cleanedData_Model['Mu']- cleanedData_Model['W1']\n",
    "cleanedData_Model['Mu-w2'] = cleanedData_Model['Mu']- cleanedData_Model['W2']\n",
    "\n",
    "cleanedData_Model['Mg-w1'] = cleanedData_Model['Mg']- cleanedData_Model['W1']\n",
    "cleanedData_Model['Mg-w2'] = cleanedData_Model['Mg']- cleanedData_Model['W2']\n",
    "\n",
    "cleanedData_Model['Mr-w1'] = cleanedData_Model['Mr']- cleanedData_Model['W1']\n",
    "cleanedData_Model['Mr-w2'] = cleanedData_Model['Mr']- cleanedData_Model['W2']\n",
    "\n",
    "cleanedData_Model['Mi-w1'] = cleanedData_Model['Mi']- cleanedData_Model['W1']\n",
    "cleanedData_Model['Mi-w2'] = cleanedData_Model['Mi']- cleanedData_Model['W2']\n",
    "\n",
    "\n",
    "cleanedData_Model['Mz-w1'] = cleanedData_Model['Mz']- cleanedData_Model['W1']\n",
    "cleanedData_Model['Mz-w2'] = cleanedData_Model['Mz']- cleanedData_Model['W2']\n",
    "\n",
    "cleanedData_Model['Mw1-w2'] = cleanedData_Model['W1']- cleanedData_Model['W2']\n",
    "\n",
    "\n"
   ]
  },
  {
   "cell_type": "code",
   "execution_count": 22,
   "id": "ec41e22a-4631-48f5-987a-adbcc5d2f293",
   "metadata": {},
   "outputs": [
    {
     "name": "stdout",
     "output_type": "stream",
     "text": [
      "(3500958, 29)\n",
      "Rows: 3500958\n",
      "Col: 29\n"
     ]
    }
   ],
   "source": [
    "print(cleanedData_Model.shape)\n",
    "print( \"Rows: \"+ str(cleanedData_Model.shape[0]) )\n",
    "print( \"Col: \"+ str(cleanedData_Model.shape[1]) ) # where there are about 28 features, and the extra is for the output \"specclass\""
   ]
  },
  {
   "cell_type": "markdown",
   "id": "3f5da2a1-4648-438c-b1a8-2306fa29f5df",
   "metadata": {},
   "source": [
    "Data splitting: create two arrays, input 'x' (features) and output 'y'"
   ]
  },
  {
   "cell_type": "markdown",
   "id": "71b4459a-46d0-4307-9701-50735b4741e2",
   "metadata": {},
   "source": [
    "#### Now dealing with this amount of features is a difficult task, therefore we have to make a shortlist of the most important features aka \"feature reduction\". The following can be used for feature reduction:\n",
    "\n",
    "#### Manual: where a user can manually select the most relevant features\n",
    "-  Permutation feature importance\n",
    "-  Feature correlation\n",
    "* the selected features can then be used for further analysis\n",
    "#### Automatic feature reduction: where features are reduced automatically:\n",
    " \n",
    "- principal component analysis\n",
    "- CNNs (deep learning)"
   ]
  },
  {
   "cell_type": "markdown",
   "id": "3e1e0894-2f2b-4369-8d75-bdd1fa7707b5",
   "metadata": {},
   "source": [
    "## Feature reduction"
   ]
  },
  {
   "cell_type": "markdown",
   "id": "6cb70067-7717-4672-8a00-ce28df950789",
   "metadata": {},
   "source": [
    "- In this section, we will show how we reduce the features using \"feature permutation\".\n",
    "- But first, we need to split the data into training and a testing set"
   ]
  },
  {
   "cell_type": "code",
   "execution_count": 23,
   "id": "55e78289-dd39-42e1-963c-8955be603f77",
   "metadata": {},
   "outputs": [
    {
     "name": "stdout",
     "output_type": "stream",
     "text": [
      "(3500958, 28)\n",
      "(3500958,)\n"
     ]
    }
   ],
   "source": [
    "X = cleanedData_Model.drop(['specclass'], axis = 1)\n",
    "y = np.array(labels)\n",
    "print(X.shape) # our input\n",
    "print(y.shape) # our input"
   ]
  },
  {
   "cell_type": "markdown",
   "id": "62fa7af7-4b39-4647-be29-109ccc6507e6",
   "metadata": {},
   "source": [
    "To avoid data leakage, we need to perform feature permutation only on a training set, therefore we need to split the data"
   ]
  },
  {
   "cell_type": "code",
   "execution_count": 24,
   "id": "382f491c-5690-4eba-82c1-6e661b614224",
   "metadata": {},
   "outputs": [],
   "source": [
    "from sklearn.model_selection import train_test_split\n",
    "\n",
    "Xtrain, Xtest, Ytrain, Ytest = train_test_split( X, y, test_size = 0.4, random_state=3, stratify=y) # train and valid sets\n"
   ]
  },
  {
   "cell_type": "code",
   "execution_count": 25,
   "id": "8751dd69-04b7-40ce-ac02-ea7881bcf93c",
   "metadata": {},
   "outputs": [
    {
     "name": "stdout",
     "output_type": "stream",
     "text": [
      "(2100574, 28)\n",
      "(1400384, 28)\n"
     ]
    }
   ],
   "source": [
    "print(Xtrain.shape)\n",
    "print(Xtest.shape)"
   ]
  },
  {
   "cell_type": "code",
   "execution_count": 38,
   "id": "1c7a59bd-b4ff-4ebb-982f-09a73b34fa81",
   "metadata": {},
   "outputs": [],
   "source": [
    "from matplotlib import pyplot\n",
    "from random import randrange\n",
    "import random\n",
    "from sklearn.preprocessing import StandardScaler\n",
    "from sklearn.ensemble import RandomForestClassifier\n",
    "from sklearn.inspection import permutation_importance\n",
    "\n",
    "attrNames = np.array(X.columns)\n",
    "featureImport = []\n"
   ]
  },
  {
   "cell_type": "code",
   "execution_count": 39,
   "id": "47ee6bf6-7f8b-4f3f-b084-bf37de3c422c",
   "metadata": {},
   "outputs": [
    {
     "name": "stdout",
     "output_type": "stream",
     "text": [
      "itr: 0\n",
      "Train shape: (152939, 28)\n",
      "Valid shape: (1947635, 28)\n",
      "\n",
      "itr: 1\n",
      "Train shape: (126752, 28)\n",
      "Valid shape: (1973822, 28)\n",
      "\n",
      "itr: 2\n",
      "Train shape: (127349, 28)\n",
      "Valid shape: (1973225, 28)\n",
      "\n"
     ]
    }
   ],
   "source": [
    "\n",
    "# https://www.kaggle.com/dansbecker/permutation-importance\n",
    "\n",
    "for i in range (3): # take the average of 3 permutations, with different sizes and random splits (you can increase the number for it to be more robust)\n",
    "    print(\"itr: \" + str(i))\n",
    "    RandomStateValid = randrange(50)\n",
    "    ranodmSplitValid = random.uniform(0.90, 1)\n",
    "    XtrainPer, XvalidPer, YtrainPer, YvalidPer = train_test_split( Xtrain, Ytrain, test_size = ranodmSplitValid, random_state=RandomStateValid, stratify=Ytrain) # train and valid sets\n",
    "    print(\"Train shape: \"+str(XtrainPer.shape))\n",
    "    print(\"Valid shape: \"+str(XvalidPer.shape))\n",
    "    print()\n",
    "   \n",
    "    # train\n",
    "    model = RandomForestClassifier(n_estimators=100, random_state=0, n_jobs = 31)\n",
    "    model.fit(XtrainPer, YtrainPer)\n",
    "    \n",
    "    results = permutation_importance(model, XtrainPer, YtrainPer, scoring='f1_micro', n_repeats = 5, n_jobs = 31)\n",
    "    importance = results.importances_mean\n",
    "    # print(importance)\n",
    "\n",
    "    featureImport.append(importance)\n"
   ]
  },
  {
   "cell_type": "code",
   "execution_count": 40,
   "id": "57540290-0980-40c7-b83a-2ab191232488",
   "metadata": {},
   "outputs": [
    {
     "name": "stdout",
     "output_type": "stream",
     "text": [
      "(3, 28)\n",
      "(28,)\n",
      "[0.00068771 0.00107188 0.00072    0.0008173  0.00152419 0.00384597\n",
      " 0.00526348 0.00150895 0.00111829 0.00148519 0.00092298 0.01081209\n",
      " 0.01823239 0.0033193  0.03641229 0.04400172 0.00806951 0.00030771\n",
      " 0.00028087 0.00063365 0.00056389 0.00048706 0.00098373 0.00143941\n",
      " 0.02807667 0.02634024 0.00561326 0.09150717]\n"
     ]
    },
    {
     "data": {
      "image/png": "[encoded data removed]",
      "text/plain": [
       "<Figure size 1080x720 with 1 Axes>"
      ]
     },
     "metadata": {
      "needs_background": "light"
     },
     "output_type": "display_data"
    }
   ],
   "source": [
    "print(np.array(featureImport).shape)\n",
    "\n",
    "arrimp = np.array(featureImport).mean(0)\n",
    "print(arrimp.shape)\n",
    "print(arrimp)\n",
    "\n",
    "pyplot.rcParams[\"figure.figsize\"] = (15,10)# 'xtick.labelsize', 'ytick.labelsize'\n",
    "pyplot.rcParams['ytick.labelsize'] = (15)# 'xtick.labelsize', 'ytick.labelsize'\n",
    "pyplot.rcParams['xtick.labelsize'] = (15)# 'xtick.labelsize', 'ytick.labelsize'\n",
    "pyplot.rcParams['axes.labelsize'] = 15\n",
    "pyplot.rcParams['axes.titlesize'] = 15\n",
    "sorted_idx = arrimp.argsort()\n",
    "\n",
    "pyplot.barh(attrNames[sorted_idx], arrimp[sorted_idx])\n",
    "# pyplot.barh(range(35), arrimp)\n",
    "\n",
    "pyplot.show()"
   ]
  },
  {
   "cell_type": "code",
   "execution_count": 41,
   "id": "523ac390-3691-4cbf-ab32-90a0370c50f1",
   "metadata": {},
   "outputs": [
    {
     "name": "stdout",
     "output_type": "stream",
     "text": [
      "['Mg-r' 'Mg-i' 'Mz-w1' 'Mi-w2' 'Mr-i' 'Mr-z' 'Mw1-w2']\n"
     ]
    }
   ],
   "source": [
    "print(attrNames[sorted_idx][-7:])"
   ]
  },
  {
   "cell_type": "markdown",
   "id": "8eef1629-0c44-423c-9735-2512b348fd74",
   "metadata": {},
   "source": [
    "for some reason, I decided to take only the first 7 features, which I will focus on the analysis and the classification task. you can try 8 if you want"
   ]
  },
  {
   "cell_type": "code",
   "execution_count": 42,
   "id": "4eb4a623-0dd5-4097-b994-eca3ba6ea779",
   "metadata": {},
   "outputs": [],
   "source": [
    "X_imp = X[attrNames[sorted_idx][-7:]]\n",
    "data_imp = cleanedData_Model [attrNames[sorted_idx][-7:]]\n",
    "data_imp = data_imp.join(cleanedData_Model [['specclass']])"
   ]
  },
  {
   "cell_type": "code",
   "execution_count": 43,
   "id": "5fa4d979-360c-4128-81be-58c1ce5628be",
   "metadata": {},
   "outputs": [
    {
     "name": "stdout",
     "output_type": "stream",
     "text": [
      "       Mg-r      Mg-i     Mz-w1     Mi-w2      Mr-i      Mr-z  Mw1-w2\n",
      "0  0.023823  0.257544  0.428691  1.057434  0.233721  0.396463   0.466\n",
      "1  1.036694  1.749788  0.359858  0.271259  0.713095  1.034496  -0.410\n",
      "2  1.780769  2.657402  0.782175  0.663311  0.876633  1.407768  -0.650\n",
      "(3500958, 7)\n"
     ]
    }
   ],
   "source": [
    "print(X_imp.head(3))\n",
    "print(X_imp.shape)"
   ]
  },
  {
   "cell_type": "markdown",
   "id": "13c6e2b5-f938-4439-ae1f-6bb0abc5c512",
   "metadata": {},
   "source": [
    "The above is my final data set :D, now I need to save them to work with them in the next tutorial (notebook)"
   ]
  },
  {
   "cell_type": "code",
   "execution_count": 44,
   "id": "bb599d8d-760a-4311-a46b-a23e01410eae",
   "metadata": {},
   "outputs": [
    {
     "name": "stdout",
     "output_type": "stream",
     "text": [
      "Stored 'X_imp' (DataFrame)\n",
      "Stored 'y' (ndarray)\n",
      "Stored 'data_imp' (DataFrame)\n"
     ]
    }
   ],
   "source": [
    "%store X_imp\n",
    "%store y\n",
    "%store data_imp"
   ]
  },
  {
   "cell_type": "code",
   "execution_count": null,
   "id": "5cb122cb-ed38-4c29-ae11-b3e6eca476d6",
   "metadata": {},
   "outputs": [],
   "source": []
  },
  {
   "cell_type": "code",
   "execution_count": null,
   "id": "57a3a13e-0b92-4329-a4fb-d8af00c5e96e",
   "metadata": {},
   "outputs": [],
   "source": []
  }
 ],
 "metadata": {
  "kernelspec": {
   "display_name": "ASTRO-PY3",
   "language": "python",
   "name": "astro-py3"
  },
  "language_info": {
   "codemirror_mode": {
    "name": "ipython",
    "version": 3
   },
   "file_extension": ".py",
   "mimetype": "text/x-python",
   "name": "python",
   "nbconvert_exporter": "python",
   "pygments_lexer": "ipython3",
   "version": "3.6.8"
  }
 },
 "nbformat": 4,
 "nbformat_minor": 5
}
